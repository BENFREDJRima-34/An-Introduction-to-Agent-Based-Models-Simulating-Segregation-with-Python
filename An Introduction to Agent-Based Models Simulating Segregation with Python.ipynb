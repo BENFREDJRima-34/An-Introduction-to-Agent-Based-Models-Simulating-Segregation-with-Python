{
 "cells": [
  {
   "cell_type": "markdown",
   "metadata": {},
   "source": [
    "# An Introduction to Agent-Based Models: Simulating Segregation with Python"
   ]
  },
  {
   "cell_type": "markdown",
   "metadata": {},
   "source": [
    "**引言**：随着心理学方法论革命的进展，社会科学兴起了计算社会科学(Computational Social Science)的热潮。**Agent-Based Modeling (ABM)**技术是计算社会科学中的一个重要分支。在这次疫情中，应用ABM技术模拟的病毒传播模型被广泛应用于各国疫情的应对中，为抗击新冠做出了突出贡献。ABM并非新生事物，早在1971年，Thomas Schelling就以基于ABM的segregation model闻名，并于2005年因其基于ABM对社会，政治经济，以及合作与冲突的研究获得诺贝尔经济学奖。在本次实训中，我将向各位介绍这门技术的基本原理与特征，并介绍Schelling's Segregation Model及其Python实现，让各位认识这一尚不知名却潜力无限的社会科学前沿技术。希望能与大家共同学习进步。"
   ]
  },
  {
   "cell_type": "markdown",
   "metadata": {},
   "source": [
    "## Agent-Based Models\n",
    "\n",
    "### ABM的定义\n",
    "\n",
    "ABM是计算机模拟(computer simulation)的一种。与之相对比的就是大数据方法，大数据更加偏重应用，是通过收集大量数据 (data collection)来预测现象 (phenomenon)的方法，其不足在于虽然可以预测，但难以对被预测的现象进行解释。而ABM更加偏重理论，**其作用在于通过计算机模拟提取理论 (theory)和提出可检验，可证伪的假设(hypothesis)。它不仅可以对现象提出预测性假设，还可以通过理论解释现象和现象的成因。**"
   ]
  },
  {
   "cell_type": "markdown",
   "metadata": {},
   "source": [
    "### ABM的核心概念\n",
    "\n",
    "ABM的一个核心概念是**社会突现 (social emergence)。一个社会的整体特征，并非这个社会中所有个体特征的简单相加，而是在个体特征引导下的互动造成的结果。个体之间互动，往往导致社会整体特征与个体特征大相径庭**。这种个体行为和互动上升到社会总体特征的过程，被称作社会的突现。例如，我们将要介绍的Schelling's Segregation Model)中，种族隔离可能是由内心倡导种族平等的公民造成的。组成一个社会的所有人都没有种族隔离的意愿，也并不排斥与肤色不同的人一同居住，只是希望邻居中至少有一部分人与自己是相似的。即使是在这种情况下，最后社会中，种族之间仍然是隔离的。白人与白人聚居，黑人与黑人聚居，聚居区之间有清晰的分割，在地图上呈现为一块块的聚集。\n",
    "\n",
    "下图中的蓝色图块代表黑人，红色图块代表白人，白色图块代表空房间。threshold代表人们对与其他种族一起居住的态度，当 “街区”中同族人数高于threshold百分比时，他们就会愿意继续居住，只有同族比例低于threshold时才会“搬家”。蓝色图块和红色图块都可以自由搬家，直到所有的图块都满意为止。如图所示，无需种族间的水火不容，只要当threshold为30%时，种族分割情况就非常严重。\n",
    "<p>\n",
    "<center>\n",
    "<img style=\"border: 1px solid #ddd\" src=\"./1.jpg\" alt=\"Schelling's Segregation model示意图\" height=\"60%\" width=\"60%\" />\n",
    "<br>\n",
    "Schelling's Segregation model示意图</center>\n",
    "</p>\n",
    "<br>"
   ]
  },
  {
   "cell_type": "markdown",
   "metadata": {},
   "source": [
    "ABM中的另一个核心要素为**“代理人”，即ABM中的A (agent)**。在Schelling segregation model中代表黑人和白人的色块就是典型的代理人。代理人具有以下8种特性：\n",
    "\n",
    "1) **离散性 (discrete)**：代理是独立的，具有可辨别边界的个体\n",
    "\n",
    "2) **情境性 (situated)**：代理存在于环境，并与环境交互。该环境包含其他代理，也可能包含其他(非代理的)资源、危险等等。\n",
    "\n",
    "3) **嵌入性 (embodied)**：代理可能是表征的(机器人型的)或完全软件模拟出的存在；后者更为普遍\n",
    "\n",
    "4) **主动性 (active)**：代理不止会被动地受环境影响，也拥有一整套行为模式主动改变环境。\n",
    "\n",
    "5) **信息受限 (limited information)**：代理并不是无所不知的，只能从离自己最近的环境中收集信息。比如，代理们只能看到他们临近处(而非全部)代理和他们自己的行为(而非他们的内在状态，目标等)。\n",
    "\n",
    "6) **目标自主(autonomous goals)**：代理有他们自己的目标，并且会独立做出行为决策来实现这些目标，而不是像受某种集权指挥的士卒一样。\n",
    "\n",
    "7) **有限理性 (bounded rationality)**：代理只能根据一些简单的规则来收集信息和产生行为，不能为了实现利益最大化进行全面的计算。\n",
    "\n",
    "8) **适应性 (adaptation)**：有些模型假定代理仅使用固定的，预设的规则来产生行为；而另一些模型中的代理可以根据经验调整行为"
   ]
  },
  {
   "cell_type": "markdown",
   "metadata": {},
   "source": [
    "### ABM的核心优势及应用\n",
    "\n",
    "如前文所描述，ABM的研究方式是**设置和调整个体水平上的代理的行为和互动模式**，而后**观察集体水平上的总体特征的改变**。这种研究方式是**独一无二的**，也是**ABM的核心优势**。它允许我们在代理人(如在现实生活里一样)不断的交锋和互动中，检验集体水平的结果。**我们能够直接观察到个体行为后果的跨水平改变，打通个体水平变量对集体水平变量影响的通道，不将研究者局限在某一个水平的分析上**。\n",
    "\n",
    "ABM的思维模式是独特的，即集体层面上的现象，往往是由这个集体中每个个体的行为和互动导致的，**每一个社会层面现象的背后，都必然有个体层面的源头**。这种思维模式，可以为心理学在多种领域的研究提供独特的视角，比如个体内过程(intrapersonal processes: 决策，直觉，记忆的效应，人格差异等)，个体间过程 (interpersonal processes: 连续交易中的互惠，喜爱和配偶选择，社会影响，以及情绪的相互感染等)，团体过程 (group processes：社会规范的形成, 领导力, 阶级的分化等)，团体间过程 (intergroup processes: 歧视，国家冲突，叛乱等)，以及社会文化过程 (social and cultural processes: 各个社会团体和种族在社会中角色的分配，概念的文化变迁，以及创新的传播等)。\n",
    "\n",
    "另外，我认为**ABM的思维模式不仅是心理学家们必须意识到的，也是这个社会中每个个体都必须的**。即社会的每一个不良现象，无论是种族分裂，还是政治上的分化，实际上是由组成这个社会的每一个人的行为导致的，**没有人是真正的局外者**。“雪崩之时，没有一片雪花是无辜的”。如同Schelling的模型中，每个个体都并非完全的种族歧视者，他们也不会为自己对不同种族的小小排斥过于纠结，但是最终社会的结果，却是每个人都不希望看到的。而对于政策制定者来说的启示，便是**想要促成社会积极的改变，仅仅从广义的社会层面入手宏观调控是不够的，更根本的途径，是找到社会症结背后的个体层面的源头**。\n",
    "\n",
    "ABM的另一个核心优势，便是**对变量进行精确而低成本的控制，并据此提出明确的理论**。之所以精确，是因为ABM中的每一个变量都可以以参数的形式添加与控制。而低成本，是因为想要添加一个变量，只需向原有程序添加一串代码。ABM提出的理论更加明确，则是因为在基于一个个参数调节的理论中，每个变量变化对结果的影响都非常直观而且量化，这为指导未来的验证性实验可以提供非常明确的参考。传统的心理学实验对于变量的精确控制一直是一个难题。而且，添加新的变量并不像ABM研究中那般随时随地。如果是实验已经完成后想要再添加变量，就必须重新设计实验，招募被试，耗费成本。基于提出的理论，也因为实验的模糊而无法十分精确。\n"
   ]
  },
  {
   "cell_type": "markdown",
   "metadata": {},
   "source": [
    "## Schelling Segregation model\n",
    "\n",
    "2005 年诺贝尔经济学奖得主 Thomas Schelling 依据上世纪 70 年代的纽约的人种居住分布得出了著名的 Schelling Segregation Model，这是一个典型的ABM，当年 Schelling 只能通过铅笔在纸上进行模拟，而这次我们通过 Python 进行仿真实现这个模型。\n",
    "在计算机科学中，基于 ABM 被用来评估独立 agent （诸如个体、群组或物体）在整个系统中的影响。这个强大的分析工具常被用在实验难以开展或者费用太高的时候。在社会科学，计算机科学，经济学和商务各领域，这个模型都有着相当广泛的应用。"
   ]
  },
  {
   "cell_type": "markdown",
   "metadata": {},
   "source": [
    "### 案例分析\n",
    "\n",
    "如果你观察多民族（multi-ethnic）混居城市的种族（racial）分布，你会对不可思议的种族隔离感到惊讶。举个例子，下面是美国人口普查局（US Census）用种族和颜色对应标记的纽约市地图。种族隔离清晰可见。\n",
    "\n",
    "<p>\n",
    "<center>\n",
    "<img style=\"border: 1px solid #ddd\" src=\"./2.jpg\" alt=\"Schelling's Segregation model示意图\" height=\"60%\" width=\"60%\" />\n",
    "<br>\n",
    "纽约市种族分布示意图</center>\n",
    "</p>\n",
    "<br>\n",
    "\n",
    "许多人会从这个现象中认定人是偏隘的（intolerant），不愿与其它种族比邻而居。然而进一步看，会发现细微的差别。2005 年的诺贝尔经济学奖得主 Thomas Schelling 在上世纪七十年代，就对这方面非常感兴趣，并建立了一个基于 Agent 的模型——“Schelling Segregation model”的来解释这种现象。借助这个极其简单的模型，Schelling 会告诉我们，宏观所见并非微观所为。"
   ]
  },
  {
   "cell_type": "markdown",
   "metadata": {},
   "source": [
    "### Schelling Segregation Model: 设置和定义\n",
    "基于 Agent 的模型需要三个参数：**1）Agents，2）行为（规则）和 3）总体层面（aggregate level）的评估**。在 Schelling 模型中，Agents 是市民，行为则是基于相似比（similarity ratio ）的搬迁，而总体评估评估就是相似比。\n",
    "\n",
    "假设城市有 n 个种族。我们用唯一的颜色来标识他们，并用网格来代表城市，每个单元格则是一间房。要么是空房子，要么有居民，且数量为 1。如果房子是空的，我们用白色标识。如果有居民，我们用此人的种群颜色来标识。我们把每个人周边房屋（上下左右、左上右上、左下右下）定义为邻居。\n",
    "\n",
    "Schelling 的目的是想测试当居民更倾向于选择同种族的邻居（甚至多种族）时会如果发生什么。如果同种族邻居的比例上升到确定阈值（称之为相似性阈值（Similarity Threshold）），那么我们认为这个人已经满意（satisfied）了。如果还没有，就是不满意。\n",
    "\n",
    "Schelling 的仿真如下。首先我们将人随机分配到城里并留空一些房子。对于每个居民，我们都会检查他（她）是否满意。如果满意，我们什么也不做。但如果不满意，我们把他分配到空房子。仿真经过几次迭代后，我们会观察最终的种族分布。"
   ]
  },
  {
   "cell_type": "markdown",
   "metadata": {},
   "source": [
    "### Schelling 模型的 Python 实现\n",
    "\n",
    "为了模拟仿真，我们首先导入一些必要的库。除了 Matplotlib 以外，其它库都是 Python 默认安装的。"
   ]
  },
  {
   "cell_type": "code",
   "execution_count": 1,
   "metadata": {
    "ExecuteTime": {
     "end_time": "2020-09-08T02:18:30.830026Z",
     "start_time": "2020-09-08T02:18:30.421542Z"
    }
   },
   "outputs": [],
   "source": [
    "import matplotlib.pyplot as plt #用于画图\n",
    "import itertools\n",
    "import random\n",
    "import copy\n",
    " "
   ]
  },
  {
   "cell_type": "markdown",
   "metadata": {},
   "source": [
    "接下来，定义名为 Schelling 的类，包含必要的属性。"
   ]
  },
  {
   "cell_type": "code",
   "execution_count": 2,
   "metadata": {
    "ExecuteTime": {
     "end_time": "2020-09-08T02:20:04.728430Z",
     "start_time": "2020-09-08T02:20:04.722447Z"
    }
   },
   "outputs": [],
   "source": [
    "class Schelling:\n",
    "    def __init__(self, width, height, empty_ratio, similarity_threshold, n_iterations, races=2):\n",
    "        '''城市的宽和高'''\n",
    "        self.width = width\n",
    "        self.height = height\n",
    "        '''种族数'''\n",
    "        self.races = races\n",
    "        '''空房子的比例'''\n",
    "        self.empty_ratio = empty_ratio\n",
    "        '''相似性阈值'''\n",
    "        self.similarity_threshold = similarity_threshold\n",
    "        '''迭代数'''\n",
    "        self.n_iterations = n_iterations\n",
    "        '''存储空房子坐标'''\n",
    "        self.empty_houses = []\n",
    "        '''存储代理人'''\n",
    "        self.agents = {}"
   ]
  },
  {
   "cell_type": "markdown",
   "metadata": {},
   "source": [
    "然后我们为Schelling类定义第一个方法populate，用于将居民随机分配在网格上。"
   ]
  },
  {
   "cell_type": "code",
   "execution_count": null,
   "metadata": {
    "ExecuteTime": {
     "end_time": "2020-09-08T02:22:10.949547Z",
     "start_time": "2020-09-08T02:22:10.943560Z"
    }
   },
   "outputs": [],
   "source": [
    "'''居民随机分配在网格上'''\n",
    "    def populate(self):\n",
    "\n",
    "        '''初始化房子的坐标'''\n",
    "        self.all_houses = list(itertools.product(range(self.width), range(self.height)))\n",
    "        '''将房子的顺序打乱'''\n",
    "        random.shuffle(self.all_houses)\n",
    "        '''空房个数'''\n",
    "        self.n_empty = int(self.empty_ratio * len(self.all_houses))\n",
    "        '''空房坐标'''\n",
    "        self.empty_houses = self.all_houses[:self.n_empty]\n",
    "        '''已经住人的房子坐标'''\n",
    "        self.remaining_houses = self.all_houses[self.n_empty:]\n",
    "        '''将房子均匀的分配给不同种族'''\n",
    "        houses_by_race = [self.remaining_houses[i::self.races] for i in range(self.races)]\n",
    "        '''为每一个种族，每一户人家初始化一个Agent'''\n",
    "        for i in range(self.races):\n",
    "            self.agents = Merge(dict(zip(houses_by_race[i], [i + 1] * len(houses_by_race[i]))),self.agents)\n"
   ]
  },
  {
   "cell_type": "markdown",
   "metadata": {},
   "source": [
    "其中包含了一个函数Merge（），该函数可以用于dict（字典）的拼接。"
   ]
  },
  {
   "cell_type": "code",
   "execution_count": 4,
   "metadata": {
    "ExecuteTime": {
     "end_time": "2020-09-08T02:23:43.669741Z",
     "start_time": "2020-09-08T02:23:43.666788Z"
    }
   },
   "outputs": [],
   "source": [
    "def Merge(dict1, dict2):\n",
    "    res = {**dict1, **dict2}\n",
    "    return res"
   ]
  },
  {
   "cell_type": "markdown",
   "metadata": {
    "ExecuteTime": {
     "end_time": "2020-09-08T02:25:26.435269Z",
     "start_time": "2020-09-08T02:25:26.430283Z"
    }
   },
   "source": [
    "接下来，我们定义一个判断代理人是否满意的函数is_unsatisfied（）"
   ]
  },
  {
   "cell_type": "code",
   "execution_count": null,
   "metadata": {},
   "outputs": [],
   "source": [
    "    '''判断代理人（x，y）是否满意'''\n",
    "    def is_unsatisfied(self, x, y):\n",
    "        '''\n",
    "        代理人（x，y）查看周围同种群邻居的比例，小于阈值返回False，否则返回True\n",
    "        :param x: int,代理人的X坐标\n",
    "        :param y: int，代理人的Y坐标\n",
    "        :return: bool\n",
    "        '''\n",
    "        '''记录代理人（x，y）的种族'''\n",
    "        race = self.agents[(x, y)]\n",
    "        '''记录代理人（x，y）周围同种族邻居的个数'''\n",
    "        count_similar = 0\n",
    "        '''记录代理人（x，y）周围不同种族邻居的个数'''\n",
    "        count_different = 0\n",
    "        '''统计周围邻居中各个种族人数'''\n",
    "        if x > 0 and y > 0 and (x - 1, y - 1) not in self.empty_houses:\n",
    "            if self.agents[(x - 1, y - 1)] == race:\n",
    "                count_similar += 1\n",
    "            else:\n",
    "                count_different += 1\n",
    "        if y > 0 and (x, y - 1) not in self.empty_houses:\n",
    "            if self.agents[(x, y - 1)] == race:\n",
    "                count_similar += 1\n",
    "            else:\n",
    "                count_different += 1\n",
    "        if x < (self.width - 1) and y > 0 and (x + 1, y - 1) not in self.empty_houses:\n",
    "            if self.agents[(x + 1, y - 1)] == race:\n",
    "                count_similar += 1\n",
    "            else:\n",
    "                count_different += 1\n",
    "        if x > 0 and (x - 1, y) not in self.empty_houses:\n",
    "            if self.agents[(x - 1, y)] == race:\n",
    "                count_similar += 1\n",
    "            else:\n",
    "                count_different += 1\n",
    "        if x < (self.width - 1) and (x + 1, y) not in self.empty_houses:\n",
    "            if self.agents[(x + 1, y)] == race:\n",
    "                count_similar += 1\n",
    "            else:\n",
    "                count_different += 1\n",
    "        if x > 0 and y < (self.height - 1) and (x - 1, y + 1) not in self.empty_houses:\n",
    "            if self.agents[(x - 1, y + 1)] == race:\n",
    "                count_similar += 1\n",
    "            else:\n",
    "                count_different += 1\n",
    "        if x > 0 and y < (self.height - 1) and (x, y + 1) not in self.empty_houses:\n",
    "            if self.agents[(x, y + 1)] == race:\n",
    "                count_similar += 1\n",
    "            else:\n",
    "                count_different += 1\n",
    "        if x < (self.width - 1) and y < (self.height - 1) and (x + 1, y + 1) not in self.empty_houses:\n",
    "            if self.agents[(x + 1, y + 1)] == race:\n",
    "                count_similar += 1\n",
    "            else:\n",
    "                count_different += 1\n",
    "        if (count_similar + count_different) == 0:\n",
    "            return False\n",
    "        else:\n",
    "            return float(count_similar) / (count_similar + count_different) < self.similarity_threshold\n"
   ]
  },
  {
   "cell_type": "markdown",
   "metadata": {},
   "source": [
    "接下来，我们定义 update 方法，用于查看网格上的居民是否尚未满意，如果尚未满意，将随机把此人分配到空房子中。并模拟 n_iterations 次。"
   ]
  },
  {
   "cell_type": "code",
   "execution_count": null,
   "metadata": {},
   "outputs": [],
   "source": [
    "    '''查看网格上的居民是否满意,如果尚未满意，将随机把此人分配到空房子中'''\n",
    "    def update(self):\n",
    "        '''循环n_iterations次'''\n",
    "        for i in range(self.n_iterations):\n",
    "            self.old_agents = copy.deepcopy(self.agents)\n",
    "            '''统计搬家人数'''\n",
    "            n_changes = 0\n",
    "\n",
    "            for agent in self.old_agents:\n",
    "                '''判断agent是否满意，不满意则将他随机分配到空房子中'''\n",
    "                if self.is_unsatisfied(agent[0], agent[1]):\n",
    "                    agent_race = self.agents[agent]\n",
    "                    '''随机选择待搬入的空房子'''\n",
    "                    empty_house = random.choice(self.empty_houses)\n",
    "                    '''搬家后生成新的agent'''\n",
    "                    self.agents[empty_house] = agent_race\n",
    "                    '''删除原来的坐标，因为他搬家了'''\n",
    "                    del self.agents[agent]\n",
    "                    '''更新空房子列表'''\n",
    "                    self.empty_houses.remove(empty_house)\n",
    "                    self.empty_houses.append(agent)\n",
    "\n",
    "                    n_changes += 1\n",
    "                    \n",
    "            '''如果大家都满意，则迭代结束'''\n",
    "            if n_changes == 0:\n",
    "                break\n"
   ]
  },
  {
   "cell_type": "markdown",
   "metadata": {},
   "source": [
    "plot 方法用来绘制整个城市和居民。我们随时可以调用这个方法来了解城市的居民分布。这个方法有两个传入参数：title 和 file_name。"
   ]
  },
  {
   "cell_type": "code",
   "execution_count": null,
   "metadata": {},
   "outputs": [],
   "source": [
    "    def plot(self, title, file_name):\n",
    "\n",
    "        fig, ax = plt.subplots()\n",
    "\n",
    "        # If you want to run the simulation with more than 7 colors, you should set agent_colors accordingly\n",
    "\n",
    "        agent_colors = {1: 'b', 2: 'r', 3: 'g', 4: 'c', 5: 'm', 6: 'y', 7: 'k'}\n",
    "\n",
    "        for agent in self.agents:\n",
    "            ax.scatter(agent[0] + 0.5, agent[1] + 0.5, color=agent_colors[self.agents[agent]])\n",
    "\n",
    "        ax.set_title(title, fontsize=10, fontweight='bold')\n",
    "\n",
    "        ax.set_xlim([0, self.width])\n",
    "\n",
    "        ax.set_ylim([0, self.height])\n",
    "\n",
    "        ax.set_xticks([])\n",
    "\n",
    "        ax.set_yticks([])\n",
    "\n",
    "        plt.savefig(file_name, dpi=600)"
   ]
  },
  {
   "cell_type": "markdown",
   "metadata": {},
   "source": [
    "### 仿真\n",
    "\n",
    "现在我们实现了 Schelling 类，可以模拟仿真并绘制结果。我们会按照下面的需求（characteristics）进行三次仿真："
   ]
  },
  {
   "cell_type": "code",
   "execution_count": 6,
   "metadata": {
    "ExecuteTime": {
     "end_time": "2020-09-08T02:32:02.469591Z",
     "start_time": "2020-09-08T02:32:02.464641Z"
    }
   },
   "outputs": [],
   "source": [
    "'''城市的大小'''\n",
    "width, height = 50,50\n",
    "'''种族数量'''\n",
    "race = 2\n",
    "'''最大迭代次数'''\n",
    "max_iterations = 500\n",
    "'''空房子的比列'''\n",
    "empty_ratio = 0.3"
   ]
  },
  {
   "cell_type": "markdown",
   "metadata": {},
   "source": [
    "### 创建3座城市，居民的相似性阈值分别为0.3,0.5,0.8，并“填充”。"
   ]
  },
  {
   "cell_type": "code",
   "execution_count": null,
   "metadata": {},
   "outputs": [],
   "source": [
    "schelling_1 = Schelling(width, height, empty_ratio, 0.3, max_iterations, race)\n",
    "\n",
    "schelling_1.populate()\n",
    "\n",
    "schelling_2 = Schelling(width, height, empty_ratio, 0.5, max_iterations, race)\n",
    "\n",
    "schelling_2.populate()\n",
    "\n",
    "schelling_3 = Schelling(width, height, empty_ratio, 0.8, max_iterations, race)\n",
    "\n",
    "schelling_3.populate()"
   ]
  },
  {
   "cell_type": "markdown",
   "metadata": {},
   "source": [
    "接下来，我们绘制初始阶段的城市。注意，相似性阈值在城市的初始状态不起作用。"
   ]
  },
  {
   "cell_type": "code",
   "execution_count": null,
   "metadata": {},
   "outputs": [],
   "source": [
    "schelling_1.plot('Schelling Model with 2 colors: Initial State', 'schelling_2_initial.png')"
   ]
  },
  {
   "cell_type": "markdown",
   "metadata": {},
   "source": [
    "下面我们运行 update 方法，绘制每个相似性阈值的最终分布。"
   ]
  },
  {
   "cell_type": "code",
   "execution_count": null,
   "metadata": {},
   "outputs": [],
   "source": [
    "schelling_1.update()\n",
    "\n",
    "schelling_2.update()\n",
    "\n",
    "schelling_3.update()\n",
    "\n",
    "schelling_1.plot('Schelling Model with 2 colors: Final State with Happiness Threshold 30%',\n",
    "                     'schelling_2_30_final.png')\n",
    "\n",
    "schelling_2.plot('Schelling Model with 2 colors: Final State with Happiness Threshold 50%',\n",
    "                     'schelling_2_50_final.png')\n",
    "\n",
    "schelling_3.plot('Schelling Model with 2 colors: Final State with Happiness Threshold 80%',\n",
    "                     'schelling_2_80_final.png')"
   ]
  },
  {
   "cell_type": "markdown",
   "metadata": {},
   "source": [
    "<p>\n",
    "<center>\n",
    "<img style=\"border: 1px solid #ddd\" src=\"./schelling_2_initial.png\" alt=\"初始化居民分布图\" height=\"60%\" width=\"60%\" />\n",
    "<br>\n",
    "初始化居民分布图</center>\n",
    "</p>\n",
    "<br>\n",
    "\n",
    "<p>\n",
    "<center>\n",
    "<img style=\"border: 1px solid #ddd\" src=\"./schelling_2_30_final.png\" alt=\"相似性阈值为30%时的最终具名分布示意图\" height=\"60%\" width=\"60%\" />\n",
    "<br>\n",
    "相似性阈值为30%时的最终居民分布示意图</center>\n",
    "</p>\n",
    "<br>\n",
    "\n",
    "<p>\n",
    "<center>\n",
    "<img style=\"border: 1px solid #ddd\" src=\"./schelling_2_50_final.png\" alt=\"相似性阈值为30%时的最终居民分布示意图\" height=\"60%\" width=\"60%\" />\n",
    "<br>\n",
    "相似性阈值为50%时的最终居民分布示意图</center>\n",
    "</p>\n",
    "<br>\n",
    "\n",
    "<p>\n",
    "<center>\n",
    "<img style=\"border: 1px solid #ddd\" src=\"./schelling_2_80_final.png\" alt=\"相似性阈值为30%时的最终居民分布示意图\" height=\"60%\" width=\"60%\" />\n",
    "<br>\n",
    "相似性阈值为80%时的最终居民分布示意图</center>\n",
    "</p>\n",
    "<br>\n",
    "\n",
    "观察以上的绘图，我们可以发现相似性阈值越高，城市的隔离度就越高。此外，我们还会发现即便相似性阈值很小，城市依旧会产生隔离。换言之，即使居民非常包容（tolerant）（相当于相似性阈值很小）希望住在多民族的社区，不过只是希望周围有一些和自己同民族的伙伴，还是会以隔离告终。我们可以总结出：宏观所见并非微观所为。"
   ]
  },
  {
   "cell_type": "markdown",
   "metadata": {},
   "source": [
    "### 评估隔离\n",
    "\n",
    "以上仿真，我们只通过可视化来确认隔离发生。然而，我们却没有对隔离的计算进行定量评估。本节我们会定义这个评估标准，我们也会模拟一些仿真来确定理想阈值和隔离程度的关系。\n",
    "\n",
    "首先在 Schelling 类中添加 calculate_similarity 方法。这个方法会计算每个 Agent 的相似性并得出均值。我们会用平均相似比评估隔离程度。"
   ]
  },
  {
   "cell_type": "code",
   "execution_count": null,
   "metadata": {},
   "outputs": [],
   "source": [
    "'''统计所有agent的平均满意度'''\n",
    "    def calculate_similarity(self):\n",
    "        similarity = []\n",
    "        for agent in self.agents:\n",
    "            count_similar = 0\n",
    "            count_different = 0\n",
    "            x = agent[0]\n",
    "            y = agent[1]\n",
    "            race = self.agents[(x, y)]\n",
    "            if x > 0 and y > 0 and (x - 1, y - 1) not in self.empty_houses:\n",
    "                if self.agents[(x - 1, y - 1)] == race:\n",
    "                    count_similar += 1\n",
    "                else:\n",
    "                    count_different += 1\n",
    "            if y > 0 and (x, y - 1) not in self.empty_houses:\n",
    "                if self.agents[(x, y - 1)] == race:\n",
    "                    count_similar += 1\n",
    "                else:\n",
    "                    count_different += 1\n",
    "            if x < (self.width - 1) and y > 0 and (x + 1, y - 1) not in self.empty_houses:\n",
    "                if self.agents[(x + 1, y - 1)] == race:\n",
    "                    count_similar += 1\n",
    "                else:\n",
    "                    count_different += 1\n",
    "            if x > 0 and (x - 1, y) not in self.empty_houses:\n",
    "                if self.agents[(x - 1, y)] == race:\n",
    "                    count_similar += 1\n",
    "                else:\n",
    "                    count_different += 1\n",
    "            if x < (self.width - 1) and (x + 1, y) not in self.empty_houses:\n",
    "                if self.agents[(x + 1, y)] == race:\n",
    "                    count_similar += 1\n",
    "                else:\n",
    "                    count_different += 1\n",
    "            if x > 0 and y < (self.height - 1) and (x - 1, y + 1) not in self.empty_houses:\n",
    "                if self.agents[(x - 1, y + 1)] == race:\n",
    "                    count_similar += 1\n",
    "                else:\n",
    "                    count_different += 1\n",
    "            if x > 0 and y < (self.height - 1) and (x, y + 1) not in self.empty_houses:\n",
    "                if self.agents[(x, y + 1)] == race:\n",
    "                    count_similar += 1\n",
    "                else:\n",
    "                    count_different += 1\n",
    "            if x < (self.width - 1) and y < (self.height - 1) and (x + 1, y + 1) not in self.empty_houses:\n",
    "                if self.agents[(x + 1, y + 1)] == race:\n",
    "                    count_similar += 1\n",
    "                else:\n",
    "                    count_different += 1\n",
    "            try:\n",
    "                similarity.append(float(count_similar) / (count_similar + count_different))\n",
    "            except:\n",
    "                similarity.append(1)\n",
    "        return sum(similarity) / len(similarity)\n"
   ]
  },
  {
   "cell_type": "markdown",
   "metadata": {},
   "source": [
    "接下去，我们算出每个相似性阈值的平均相似比，并绘制出相似性阈值和相似比之间的关系。"
   ]
  },
  {
   "cell_type": "code",
   "execution_count": null,
   "metadata": {},
   "outputs": [],
   "source": [
    "similarity_threshold_ratio = {}\n",
    "\n",
    "    for i in [0, 0.1, 0.2, 0.3, 0.4, 0.5, 0.6, 0.7]:\n",
    "        schelling = Schelling(width, height, empty_ratio, i, max_iterations, race)\n",
    "\n",
    "        schelling.populate()\n",
    "\n",
    "        schelling.update()\n",
    "\n",
    "        similarity_threshold_ratio[i] = schelling.calculate_similarity()\n",
    "\n",
    "    fig, ax = plt.subplots()\n",
    "\n",
    "    plt.plot(list(similarity_threshold_ratio.keys()), list(similarity_threshold_ratio.values()), 'ro')\n",
    "\n",
    "    ax.set_title('Similarity Threshold vs. Mean Similarity Ratio', fontsize=15, fontweight='bold')\n",
    "\n",
    "    ax.set_xlim([0, 1])\n",
    "\n",
    "    ax.set_ylim([0, 1.1])\n",
    "\n",
    "    ax.set_xlabel(\"Similarity Threshold\")\n",
    "\n",
    "    ax.set_ylabel(\"Mean Similarity Ratio\")\n",
    "\n",
    "    plt.savefig('schelling_segregation.png')\n"
   ]
  },
  {
   "cell_type": "markdown",
   "metadata": {
    "ExecuteTime": {
     "end_time": "2020-09-08T03:08:21.981626Z",
     "start_time": "2020-09-08T03:08:21.973612Z"
    }
   },
   "source": [
    "<p>\n",
    "<center>\n",
    "<img style=\"border: 1px solid #ddd\" src=\"./schelling_segregation.png\" alt=\"相似性阈值与最终隔离度关系图\" height=\"60%\" width=\"60%\" />\n",
    "<br>\n",
    "相似性阈值与最终隔离度关系图</center>\n",
    "</p>\n",
    "<br>\n",
    "\n",
    "通过上图，可以发现即便相似性阈值非常小，依然会得到很高的隔离度（由平均相似性评估）。举个例子，相似阈值为 0.3，会得到 0.75 的平均相似性。我们可以通过量化再次确定宏观所见并非微观所为。"
   ]
  },
  {
   "cell_type": "markdown",
   "metadata": {},
   "source": [
    "## 总结\n",
    "\n",
    "在本文中，我们介绍了一个基于 Agent 的模型——“Schelling 隔离模型”，并用 Python 实现。这个十分简单的模型帮助我们理解了非常复杂的现象：多民族城市中的种族隔离。我们可以发现城市种族的高度隔离不必解读成个体层面的偏隘。"
   ]
  },
  {
   "cell_type": "markdown",
   "metadata": {
    "ExecuteTime": {
     "end_time": "2020-09-08T03:11:30.058589Z",
     "start_time": "2020-09-08T03:11:30.055286Z"
    }
   },
   "source": [
    "## 完整的代码"
   ]
  },
  {
   "cell_type": "code",
   "execution_count": null,
   "metadata": {},
   "outputs": [],
   "source": [
    "'''\n",
    "Author : Qichang Zhao\n",
    "Email : 137241304@qq.com\n",
    "Date : 3-Sep-2020\n",
    "Description: Simulations of Schelling's seggregation model\n",
    "http://www.binpress.com/tutorial/introduction-to-agentbased-models-an-implementation-of-schelling-model-in-python/144\n",
    "'''\n",
    "\n",
    "import matplotlib.pyplot as plt\n",
    "import itertools\n",
    "import random\n",
    "import copy\n",
    "\n",
    "def Merge(dict1, dict2):\n",
    "    res = {**dict1, **dict2}\n",
    "    return res\n",
    "\n",
    "class Schelling:\n",
    "    def __init__(self, width, height, empty_ratio, similarity_threshold, n_iterations, races=2):\n",
    "        '''城市的宽和高'''\n",
    "        self.width = width\n",
    "        self.height = height\n",
    "        '''种族数'''\n",
    "        self.races = races\n",
    "        '''空房子的比例'''\n",
    "        self.empty_ratio = empty_ratio\n",
    "        '''相似性阈值'''\n",
    "        self.similarity_threshold = similarity_threshold\n",
    "        '''迭代数'''\n",
    "        self.n_iterations = n_iterations\n",
    "        '''存储空房子坐标'''\n",
    "        self.empty_houses = []\n",
    "        '''存储代理人'''\n",
    "        self.agents = {}\n",
    "\n",
    "    '''居民随机分配在网格上'''\n",
    "    def populate(self):\n",
    "\n",
    "        '''初始化房子的坐标'''\n",
    "        self.all_houses = list(itertools.product(range(self.width), range(self.height)))\n",
    "        '''将房子的顺序打乱'''\n",
    "        random.shuffle(self.all_houses)\n",
    "        '''空房个数'''\n",
    "        self.n_empty = int(self.empty_ratio * len(self.all_houses))\n",
    "        '''空房坐标'''\n",
    "        self.empty_houses = self.all_houses[:self.n_empty]\n",
    "        '''已经住人的房子坐标'''\n",
    "        self.remaining_houses = self.all_houses[self.n_empty:]\n",
    "        '''将房子均匀的分配给不同种族'''\n",
    "        houses_by_race = [self.remaining_houses[i::self.races] for i in range(self.races)]\n",
    "        '''为每一个种族，每一户人家初始化一个Agent'''\n",
    "        for i in range(self.races):\n",
    "            self.agents = Merge(dict(zip(houses_by_race[i], [i + 1] * len(houses_by_race[i]))),self.agents)\n",
    "\n",
    "    '''判断代理人（x，y）是否满意'''\n",
    "    def is_unsatisfied(self, x, y):\n",
    "        '''\n",
    "        代理人（x，y）查看周围同种群邻居的比例，小于阈值返回False，否则返回True\n",
    "        :param x: int,代理人的X坐标\n",
    "        :param y: int，代理人的Y坐标\n",
    "        :return: bool\n",
    "        '''\n",
    "        '''记录代理人（x，y）的种族'''\n",
    "        race = self.agents[(x, y)]\n",
    "        '''记录代理人（x，y）周围同种族邻居的个数'''\n",
    "        count_similar = 0\n",
    "        '''记录代理人（x，y）周围不同种族邻居的个数'''\n",
    "        count_different = 0\n",
    "        '''统计周围邻居中各个种族人数'''\n",
    "        if x > 0 and y > 0 and (x - 1, y - 1) not in self.empty_houses:\n",
    "            if self.agents[(x - 1, y - 1)] == race:\n",
    "                count_similar += 1\n",
    "            else:\n",
    "                count_different += 1\n",
    "        if y > 0 and (x, y - 1) not in self.empty_houses:\n",
    "            if self.agents[(x, y - 1)] == race:\n",
    "                count_similar += 1\n",
    "            else:\n",
    "                count_different += 1\n",
    "        if x < (self.width - 1) and y > 0 and (x + 1, y - 1) not in self.empty_houses:\n",
    "            if self.agents[(x + 1, y - 1)] == race:\n",
    "                count_similar += 1\n",
    "            else:\n",
    "                count_different += 1\n",
    "        if x > 0 and (x - 1, y) not in self.empty_houses:\n",
    "            if self.agents[(x - 1, y)] == race:\n",
    "                count_similar += 1\n",
    "            else:\n",
    "                count_different += 1\n",
    "        if x < (self.width - 1) and (x + 1, y) not in self.empty_houses:\n",
    "            if self.agents[(x + 1, y)] == race:\n",
    "                count_similar += 1\n",
    "            else:\n",
    "                count_different += 1\n",
    "        if x > 0 and y < (self.height - 1) and (x - 1, y + 1) not in self.empty_houses:\n",
    "            if self.agents[(x - 1, y + 1)] == race:\n",
    "                count_similar += 1\n",
    "            else:\n",
    "                count_different += 1\n",
    "        if x > 0 and y < (self.height - 1) and (x, y + 1) not in self.empty_houses:\n",
    "            if self.agents[(x, y + 1)] == race:\n",
    "                count_similar += 1\n",
    "            else:\n",
    "                count_different += 1\n",
    "        if x < (self.width - 1) and y < (self.height - 1) and (x + 1, y + 1) not in self.empty_houses:\n",
    "            if self.agents[(x + 1, y + 1)] == race:\n",
    "                count_similar += 1\n",
    "            else:\n",
    "                count_different += 1\n",
    "        if (count_similar + count_different) == 0:\n",
    "            return False\n",
    "        else:\n",
    "            return float(count_similar) / (count_similar + count_different) < self.similarity_threshold\n",
    "\n",
    "    '''查看网格上的居民是否满意,如果尚未满意，将随机把此人分配到空房子中'''\n",
    "    def update(self):\n",
    "        '''循环n_iterations次'''\n",
    "        for i in range(self.n_iterations):\n",
    "            self.old_agents = copy.deepcopy(self.agents)\n",
    "            '''统计搬家人数'''\n",
    "            n_changes = 0\n",
    "\n",
    "            for agent in self.old_agents:\n",
    "                '''判断agent是否满意，不满意则将他随机分配到空房子中'''\n",
    "                if self.is_unsatisfied(agent[0], agent[1]):\n",
    "                    agent_race = self.agents[agent]\n",
    "                    '''随机选择待搬入的空房子'''\n",
    "                    empty_house = random.choice(self.empty_houses)\n",
    "                    '''搬家后生成新的agent'''\n",
    "                    self.agents[empty_house] = agent_race\n",
    "                    '''删除原来的坐标，因为他搬家了'''\n",
    "                    del self.agents[agent]\n",
    "                    '''更新空房子列表'''\n",
    "                    self.empty_houses.remove(empty_house)\n",
    "                    self.empty_houses.append(agent)\n",
    "\n",
    "                    n_changes += 1\n",
    "\n",
    "            '''如果大家都满意，则迭代结束'''\n",
    "            if n_changes == 0:\n",
    "                break\n",
    "\n",
    "    # def move_to_empty(self, x, y):\n",
    "    #\n",
    "    #     race = self.agents[(x, y)]\n",
    "    #\n",
    "    #     empty_house = random.choice(self.empty_houses)\n",
    "    #\n",
    "    #     self.updated_agents[empty_house] = race\n",
    "    #\n",
    "    #     del self.updated_agents[(x, y)]\n",
    "    #\n",
    "    #     self.empty_houses.remove(empty_house)\n",
    "    #\n",
    "    #     self.empty_houses.append((x, y))\n",
    "\n",
    "    def plot(self, title, file_name):\n",
    "\n",
    "        fig, ax = plt.subplots()\n",
    "\n",
    "        # If you want to run the simulation with more than 7 colors, you should set agent_colors accordingly\n",
    "\n",
    "        agent_colors = {1: 'b', 2: 'r', 3: 'g', 4: 'c', 5: 'm', 6: 'y', 7: 'k'}\n",
    "\n",
    "        for agent in self.agents:\n",
    "            ax.scatter(agent[0] + 0.5, agent[1] + 0.5, color=agent_colors[self.agents[agent]])\n",
    "\n",
    "        ax.set_title(title, fontsize=10, fontweight='bold')\n",
    "\n",
    "        ax.set_xlim([0, self.width])\n",
    "\n",
    "        ax.set_ylim([0, self.height])\n",
    "\n",
    "        ax.set_xticks([])\n",
    "\n",
    "        ax.set_yticks([])\n",
    "\n",
    "        plt.savefig(file_name, dpi=600)\n",
    "    '''统计所有agent的平均满意度'''\n",
    "    def calculate_similarity(self):\n",
    "        similarity = []\n",
    "        for agent in self.agents:\n",
    "            count_similar = 0\n",
    "            count_different = 0\n",
    "            x = agent[0]\n",
    "            y = agent[1]\n",
    "            race = self.agents[(x, y)]\n",
    "            if x > 0 and y > 0 and (x - 1, y - 1) not in self.empty_houses:\n",
    "                if self.agents[(x - 1, y - 1)] == race:\n",
    "                    count_similar += 1\n",
    "                else:\n",
    "                    count_different += 1\n",
    "            if y > 0 and (x, y - 1) not in self.empty_houses:\n",
    "                if self.agents[(x, y - 1)] == race:\n",
    "                    count_similar += 1\n",
    "                else:\n",
    "                    count_different += 1\n",
    "            if x < (self.width - 1) and y > 0 and (x + 1, y - 1) not in self.empty_houses:\n",
    "                if self.agents[(x + 1, y - 1)] == race:\n",
    "                    count_similar += 1\n",
    "                else:\n",
    "                    count_different += 1\n",
    "            if x > 0 and (x - 1, y) not in self.empty_houses:\n",
    "                if self.agents[(x - 1, y)] == race:\n",
    "                    count_similar += 1\n",
    "                else:\n",
    "                    count_different += 1\n",
    "            if x < (self.width - 1) and (x + 1, y) not in self.empty_houses:\n",
    "                if self.agents[(x + 1, y)] == race:\n",
    "                    count_similar += 1\n",
    "                else:\n",
    "                    count_different += 1\n",
    "            if x > 0 and y < (self.height - 1) and (x - 1, y + 1) not in self.empty_houses:\n",
    "                if self.agents[(x - 1, y + 1)] == race:\n",
    "                    count_similar += 1\n",
    "                else:\n",
    "                    count_different += 1\n",
    "            if x > 0 and y < (self.height - 1) and (x, y + 1) not in self.empty_houses:\n",
    "                if self.agents[(x, y + 1)] == race:\n",
    "                    count_similar += 1\n",
    "                else:\n",
    "                    count_different += 1\n",
    "            if x < (self.width - 1) and y < (self.height - 1) and (x + 1, y + 1) not in self.empty_houses:\n",
    "                if self.agents[(x + 1, y + 1)] == race:\n",
    "                    count_similar += 1\n",
    "                else:\n",
    "                    count_different += 1\n",
    "            try:\n",
    "                similarity.append(float(count_similar) / (count_similar + count_different))\n",
    "            except:\n",
    "                similarity.append(1)\n",
    "        return sum(similarity) / len(similarity)\n",
    "\n",
    "\n",
    "def main():\n",
    "    ##First Simulation\n",
    "    '''城市的大小'''\n",
    "    width, height = 50,50\n",
    "    '''种族数量'''\n",
    "    race = 2\n",
    "    '''最大迭代次数'''\n",
    "    max_iterations = 500\n",
    "    '''空房子的比列'''\n",
    "    empty_ratio = 0.3\n",
    "\n",
    "    schelling_1 = Schelling(width, height, empty_ratio, 0.3, max_iterations, race)\n",
    "\n",
    "    schelling_1.populate()\n",
    "\n",
    "    schelling_2 = Schelling(width, height, empty_ratio, 0.5, max_iterations, race)\n",
    "\n",
    "    schelling_2.populate()\n",
    "\n",
    "    schelling_3 = Schelling(width, height, empty_ratio, 0.8, max_iterations, race)\n",
    "\n",
    "    schelling_3.populate()\n",
    "\n",
    "    schelling_1.plot('Schelling Model with 2 colors: Initial State', 'schelling_2_initial.png')\n",
    "\n",
    "    schelling_1.update()\n",
    "\n",
    "    schelling_2.update()\n",
    "\n",
    "    schelling_3.update()\n",
    "\n",
    "    schelling_1.plot('Schelling Model with 2 colors: Final State with Happiness Threshold 30%',\n",
    "                     'schelling_2_30_final.png')\n",
    "\n",
    "    schelling_2.plot('Schelling Model with 2 colors: Final State with Happiness Threshold 50%',\n",
    "                     'schelling_2_50_final.png')\n",
    "\n",
    "    schelling_3.plot('Schelling Model with 2 colors: Final State with Happiness Threshold 80%',\n",
    "                     'schelling_2_80_final.png')\n",
    "\n",
    "    ##Second Simulation Measuring Seggregation\n",
    "\n",
    "    similarity_threshold_ratio = {}\n",
    "\n",
    "    for i in [0, 0.1, 0.2, 0.3, 0.4, 0.5, 0.6, 0.7]:\n",
    "        schelling = Schelling(width, height, empty_ratio, i, max_iterations, race)\n",
    "\n",
    "        schelling.populate()\n",
    "\n",
    "        schelling.update()\n",
    "\n",
    "        similarity_threshold_ratio[i] = schelling.calculate_similarity()\n",
    "\n",
    "    fig, ax = plt.subplots()\n",
    "\n",
    "    plt.plot(list(similarity_threshold_ratio.keys()), list(similarity_threshold_ratio.values()), 'ro')\n",
    "\n",
    "    ax.set_title('Similarity Threshold vs. Mean Similarity Ratio', fontsize=15, fontweight='bold')\n",
    "\n",
    "    ax.set_xlim([0, 1])\n",
    "\n",
    "    ax.set_ylim([0, 1.1])\n",
    "\n",
    "    ax.set_xlabel(\"Similarity Threshold\")\n",
    "\n",
    "    ax.set_ylabel(\"Mean Similarity Ratio\")\n",
    "\n",
    "    plt.savefig('schelling_segregation.png')\n",
    "\n",
    "\n",
    "if __name__ == \"__main__\":\n",
    "    main()"
   ]
  },
  {
   "cell_type": "code",
   "execution_count": null,
   "metadata": {},
   "outputs": [],
   "source": []
  }
 ],
 "metadata": {
  "kernelspec": {
   "display_name": "Python 3",
   "language": "python",
   "name": "python3"
  },
  "language_info": {
   "codemirror_mode": {
    "name": "ipython",
    "version": 3
   },
   "file_extension": ".py",
   "mimetype": "text/x-python",
   "name": "python",
   "nbconvert_exporter": "python",
   "pygments_lexer": "ipython3",
   "version": "3.6.5"
  },
  "toc": {
   "base_numbering": 1,
   "nav_menu": {},
   "number_sections": true,
   "sideBar": true,
   "skip_h1_title": false,
   "title_cell": "Table of Contents",
   "title_sidebar": "Contents",
   "toc_cell": false,
   "toc_position": {},
   "toc_section_display": true,
   "toc_window_display": false
  },
  "varInspector": {
   "cols": {
    "lenName": 16,
    "lenType": 16,
    "lenVar": 40
   },
   "kernels_config": {
    "python": {
     "delete_cmd_postfix": "",
     "delete_cmd_prefix": "del ",
     "library": "var_list.py",
     "varRefreshCmd": "print(var_dic_list())"
    },
    "r": {
     "delete_cmd_postfix": ") ",
     "delete_cmd_prefix": "rm(",
     "library": "var_list.r",
     "varRefreshCmd": "cat(var_dic_list()) "
    }
   },
   "types_to_exclude": [
    "module",
    "function",
    "builtin_function_or_method",
    "instance",
    "_Feature"
   ],
   "window_display": false
  }
 },
 "nbformat": 4,
 "nbformat_minor": 2
}
